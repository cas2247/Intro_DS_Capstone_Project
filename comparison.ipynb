{
 "cells": [
  {
   "cell_type": "code",
   "execution_count": 1,
   "id": "9ce1afd3-df0f-4fc6-8e21-5052a368a7b7",
   "metadata": {},
   "outputs": [],
   "source": [
    "import pandas as pd\n",
    "import numpy as np\n",
    "import matplotlib.pyplot as plt\n",
    "import math\n",
    "from sklearn.cluster import KMeans\n",
    "from sklearn.tree import DecisionTreeClassifier\n",
    "from sklearn.pipeline import make_pipeline\n",
    "from sklearn.svm import SVC\n",
    "from sklearn.preprocessing import StandardScaler\n",
    "from sklearn.neural_network import MLPClassifier\n",
    "from sklearn.model_selection import train_test_split\n",
    "from sklearn.metrics import accuracy_score, roc_auc_score"
   ]
  },
  {
   "cell_type": "code",
   "execution_count": 2,
   "id": "6d9d9245-21be-4a8b-a317-bcd5f830e88b",
   "metadata": {},
   "outputs": [],
   "source": [
    "df = pd.read_csv('Speed Dating Data.csv',  encoding=\"ISO-8859-1\")"
   ]
  },
  {
   "cell_type": "code",
   "execution_count": 3,
   "id": "6c6cf978-070c-4f3d-9ffd-94fac9f518bd",
   "metadata": {},
   "outputs": [
    {
     "data": {
      "text/plain": [
       "Index(['like_o', 'like', 'fun_o', 'fun', 'shar_o', 'shar', 'attr_o', 'attr'], dtype='object')"
      ]
     },
     "execution_count": 3,
     "metadata": {},
     "output_type": "execute_result"
    }
   ],
   "source": [
    "## Indepedent Variables (Top 10 features in terms of correlation with 'match')\n",
    "idv = df.corr()['match'].sort_values()[::-1][:11].index[3:]\n",
    "df = df.fillna(df.mean())\n",
    "idv"
   ]
  },
  {
   "cell_type": "code",
   "execution_count": 4,
   "id": "ab5c6dbc-684d-4d23-91af-92c2a303eb53",
   "metadata": {},
   "outputs": [
    {
     "data": {
      "text/plain": [
       "0    6998\n",
       "1    1380\n",
       "Name: match, dtype: int64"
      ]
     },
     "execution_count": 4,
     "metadata": {},
     "output_type": "execute_result"
    }
   ],
   "source": [
    "df['match'].value_counts()"
   ]
  },
  {
   "cell_type": "code",
   "execution_count": 5,
   "id": "8267e2f7-053f-45f9-9241-af3b536ae69c",
   "metadata": {},
   "outputs": [],
   "source": [
    "x, y = df[idv], df['match']\n",
    "x_train, x_test, y_train, y_test = train_test_split(x,y,test_size = 0.2)"
   ]
  },
  {
   "cell_type": "code",
   "execution_count": 6,
   "id": "69fcc952-9829-4f73-8a56-028c0639981c",
   "metadata": {},
   "outputs": [],
   "source": [
    "meths = ['kmeans','decision_tree','svm', 'mlp']\n",
    "train_acc = []\n",
    "test_acc = []\n",
    "auc = []"
   ]
  },
  {
   "cell_type": "markdown",
   "id": "612e83bc-453b-423f-aa87-3db0e6b6180d",
   "metadata": {},
   "source": [
    "Now lets try to predict <b>Match</b> using different methods and compare them to identify the best classifier. "
   ]
  },
  {
   "cell_type": "markdown",
   "id": "c59fca61-7e94-47fd-9eef-889213b1b2ba",
   "metadata": {},
   "source": [
    "## Method 1: KMeans Clustering"
   ]
  },
  {
   "cell_type": "code",
   "execution_count": 7,
   "id": "9aa04bb0-5357-4f59-8d53-472e468a4729",
   "metadata": {},
   "outputs": [
    {
     "name": "stdout",
     "output_type": "stream",
     "text": [
      "Train Score: 0.6016114592658908\n",
      "Val. Score: 0.6020286396181385\n",
      "Average AUC on val. data: 0.6239590006406149\n"
     ]
    }
   ],
   "source": [
    "km = KMeans(2)\n",
    "train_labels = km.fit_predict(x_train.to_numpy())\n",
    "val_labels = km.predict(x_test.to_numpy())\n",
    "\n",
    "print('Train Score:',accuracy_score(train_labels, y_train))\n",
    "print('Val. Score:',accuracy_score(val_labels, y_test))\n",
    "print('Average AUC on val. data:',roc_auc_score(km.predict(x_test),y_test))\n",
    "\n",
    "train_acc.append(accuracy_score(train_labels, y_train))\n",
    "test_acc.append(accuracy_score(val_labels, y_test))\n",
    "auc.append(roc_auc_score(km.predict(x_test),y_test))"
   ]
  },
  {
   "cell_type": "markdown",
   "id": "79a3d0a1-c07f-4e43-88d3-ecdbc9920878",
   "metadata": {},
   "source": [
    "## Method 2: Decision Tree"
   ]
  },
  {
   "cell_type": "code",
   "execution_count": 8,
   "id": "e5f9328b-c312-427a-b916-3f5fb5d68bea",
   "metadata": {},
   "outputs": [
    {
     "name": "stdout",
     "output_type": "stream",
     "text": [
      "Train Score: 0.9962697702178455\n",
      "Val. Score: 0.7810262529832935\n",
      "Average AUC on val. data: 0.6120635046321957\n"
     ]
    }
   ],
   "source": [
    "dt = DecisionTreeClassifier()\n",
    "dt.fit(x_train, y_train)\n",
    "train_labels = dt.predict(x_train)\n",
    "val_labels = dt.predict(x_test)\n",
    "\n",
    "print('Train Score:',accuracy_score(train_labels, y_train))\n",
    "print('Val. Score:',accuracy_score(val_labels, y_test))\n",
    "print('Average AUC on val. data:',roc_auc_score(dt.predict(x_test),y_test))\n",
    "\n",
    "train_acc.append(accuracy_score(train_labels, y_train))\n",
    "test_acc.append(accuracy_score(val_labels, y_test))\n",
    "auc.append(roc_auc_score(dt.predict(x_test),y_test))"
   ]
  },
  {
   "cell_type": "markdown",
   "id": "28ec1c55-4969-4064-a6d2-726a53ffc9ea",
   "metadata": {},
   "source": [
    "## Method 3: SVM"
   ]
  },
  {
   "cell_type": "code",
   "execution_count": 9,
   "id": "6b059c31-6934-4aa9-94f4-21a7658bb0a4",
   "metadata": {},
   "outputs": [
    {
     "name": "stdout",
     "output_type": "stream",
     "text": [
      "Train Score: 0.8595941509997016\n",
      "Val. Score: 0.8562052505966588\n",
      "Average AUC on val. data: 0.7848671788106878\n"
     ]
    }
   ],
   "source": [
    "svm = make_pipeline(StandardScaler(), SVC(gamma='auto'))\n",
    "svm.fit(x_train, y_train)\n",
    "train_labels = svm.predict(x_train)\n",
    "val_labels = svm.predict(x_test)\n",
    "\n",
    "print('Train Score:',accuracy_score(train_labels, y_train))\n",
    "print('Val. Score:',accuracy_score(val_labels, y_test))\n",
    "print('Average AUC on val. data:',roc_auc_score(svm.predict(x_test),y_test))\n",
    "\n",
    "train_acc.append(accuracy_score(train_labels, y_train))\n",
    "test_acc.append(accuracy_score(val_labels, y_test))\n",
    "auc.append(roc_auc_score(svm.predict(x_test),y_test))"
   ]
  },
  {
   "cell_type": "markdown",
   "id": "9b2580b6-d9c8-491d-a47e-39e03d19c52f",
   "metadata": {
    "tags": []
   },
   "source": [
    "## Method 4: Multilayer Perceptron (Neural Networks)"
   ]
  },
  {
   "cell_type": "code",
   "execution_count": 10,
   "id": "27f483bf-c634-4588-bb39-f9b5549229f7",
   "metadata": {},
   "outputs": [
    {
     "name": "stdout",
     "output_type": "stream",
     "text": [
      "Train Score: 0.8569083855565502\n",
      "Val. Score: 0.8621718377088305\n",
      "Average AUC on val.data: 0.7629749970859075\n"
     ]
    }
   ],
   "source": [
    "nn = MLPClassifier(random_state=1, max_iter=300).fit(x_train, y_train)\n",
    "train_labels = nn.predict(x_train)\n",
    "val_labels = nn.predict(x_test)\n",
    "\n",
    "print('Train Score:',accuracy_score(train_labels, y_train))\n",
    "print('Val. Score:',accuracy_score(val_labels, y_test))\n",
    "print('Average AUC on val.data:',roc_auc_score(nn.predict(x_test),y_test))\n",
    "\n",
    "train_acc.append(accuracy_score(train_labels, y_train))\n",
    "test_acc.append(accuracy_score(val_labels, y_test))\n",
    "auc.append(roc_auc_score(nn.predict(x_test),y_test))"
   ]
  },
  {
   "cell_type": "code",
   "execution_count": 11,
   "id": "d2590544-ee6f-401a-b95c-24d04692a3f3",
   "metadata": {},
   "outputs": [
    {
     "data": {
      "image/png": "[encoded data removed]",
      "text/plain": [
       "<Figure size 432x288 with 1 Axes>"
      ]
     },
     "metadata": {
      "needs_background": "light"
     },
     "output_type": "display_data"
    },
    {
     "data": {
      "image/png": "[encoded data removed]",
      "text/plain": [
       "<Figure size 432x288 with 1 Axes>"
      ]
     },
     "metadata": {
      "needs_background": "light"
     },
     "output_type": "display_data"
    },
    {
     "data": {
      "image/png": "[encoded data removed]",
      "text/plain": [
       "<Figure size 432x288 with 1 Axes>"
      ]
     },
     "metadata": {
      "needs_background": "light"
     },
     "output_type": "display_data"
    }
   ],
   "source": [
    "plt.bar(meths, train_acc, label = 'train_acc')\n",
    "plt.title('Training Accuracy')\n",
    "plt.xlabel('Methods')\n",
    "plt.ylabel('Accuracy')\n",
    "plt.show()\n",
    "\n",
    "plt.bar(meths, test_acc, label = 'val_acc', color = 'orange')\n",
    "plt.title('Validation Accuracy')\n",
    "plt.xlabel('Methods')\n",
    "plt.ylabel('Accuracy')\n",
    "plt.show()\n",
    "\n",
    "plt.bar(meths, auc, label = 'auc', color = 'red')\n",
    "plt.title('AUC Scores')\n",
    "plt.xlabel('Methods')\n",
    "plt.ylabel('Accuracy')\n",
    "plt.show()"
   ]
  },
  {
   "cell_type": "markdown",
   "id": "bbd5c791-c1cc-40c5-b0b3-877cf171b23a",
   "metadata": {},
   "source": [
    "We can conclude that SVM is the best method for this dataset with a highest AUC score of 78%"
   ]
  },
  {
   "cell_type": "code",
   "execution_count": null,
   "id": "19a41bf2-96cb-4348-b63c-60e5464f4c2c",
   "metadata": {},
   "outputs": [],
   "source": []
  }
 ],
 "metadata": {
  "kernelspec": {
   "display_name": "Python 3 (ipykernel)",
   "language": "python",
   "name": "python3"
  },
  "language_info": {
   "codemirror_mode": {
    "name": "ipython",
    "version": 3
   },
   "file_extension": ".py",
   "mimetype": "text/x-python",
   "name": "python",
   "nbconvert_exporter": "python",
   "pygments_lexer": "ipython3",
   "version": "3.8.10"
  }
 },
 "nbformat": 4,
 "nbformat_minor": 5
}
